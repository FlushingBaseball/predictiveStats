{
 "cells": [
  {
   "cell_type": "code",
   "execution_count": null,
   "id": "aacecf7f-c422-4e38-9eb4-c17581dea453",
   "metadata": {},
   "outputs": [],
   "source": [
    "import os\n",
    "import pandas as pd\n",
    "import numpy as np\n",
    "from pybaseball import batting_stats"
   ]
  },
  {
   "cell_type": "code",
   "execution_count": null,
   "id": "a7f37653-727b-4d74-b4dd-74744e8d0dbc",
   "metadata": {},
   "outputs": [],
   "source": [
    "START = 2000\n",
    "END = 2024"
   ]
  },
  {
   "cell_type": "code",
   "execution_count": null,
   "id": "6746514e-e166-4455-ad7a-6865799dc3a4",
   "metadata": {},
   "outputs": [],
   "source": [
    "batting = batting_stats(START, END, qual=150)"
   ]
  },
  {
   "cell_type": "code",
   "execution_count": null,
   "id": "ef8a4f7a-9f1b-456a-8266-85a7b5e59f30",
   "metadata": {},
   "outputs": [],
   "source": [
    "batting.to_csv(\"batting.csv\")"
   ]
  },
  {
   "cell_type": "code",
   "execution_count": null,
   "id": "e7734d16-731a-4ca3-adc0-11b40271041c",
   "metadata": {},
   "outputs": [],
   "source": [
    "## removing players that only have one qualified season may switch to MLBAM id\n",
    "## at least two seasons of data\n",
    "batting = batting.groupby(\"IDfg\", group_keys=False).filter(lambda x: x.shape[0] >1)"
   ]
  },
  {
   "cell_type": "code",
   "execution_count": null,
   "id": "c2a20a41-09db-4dcd-a538-22d9870ca8b5",
   "metadata": {},
   "outputs": [],
   "source": [
    "batting"
   ]
  },
  {
   "cell_type": "code",
   "execution_count": null,
   "id": "3093b280-9c45-4705-8de6-4c6e2ddd94a6",
   "metadata": {},
   "outputs": [],
   "source": [
    "def next_season(player):\n",
    "    player = player.sort_values(\"Season\")\n",
    "    player[\"Next_WAR\"] = player[\"WAR\"].shift(-1)\n",
    "    return player\n",
    "batting = batting.groupby(\"IDfg\", group_keys=False).apply(next_season)"
   ]
  },
  {
   "cell_type": "code",
   "execution_count": null,
   "id": "1480321a-4689-417d-abf4-b930afc3b8b0",
   "metadata": {},
   "outputs": [],
   "source": [
    "batting[[\"Name\", \"Season\", \"WAR\", \"Next_WAR\"]]"
   ]
  },
  {
   "cell_type": "code",
   "execution_count": null,
   "id": "172a155f-7848-41f6-984a-4288c5bac759",
   "metadata": {},
   "outputs": [],
   "source": [
    "null_count = batting.isnull().sum()"
   ]
  },
  {
   "cell_type": "code",
   "execution_count": null,
   "id": "89d96229-72d8-4345-a460-22f61bebfc39",
   "metadata": {},
   "outputs": [],
   "source": [
    "null_count"
   ]
  },
  {
   "cell_type": "code",
   "execution_count": null,
   "id": "bef28623-3ea5-4f90-8392-902abd081ec1",
   "metadata": {},
   "outputs": [],
   "source": [
    "complete_cols = list(batting.columns[null_count ==0])"
   ]
  },
  {
   "cell_type": "code",
   "execution_count": null,
   "id": "ccb4ac38-d39a-4db6-94ee-96ff3e8ecf86",
   "metadata": {},
   "outputs": [],
   "source": [
    "complete_cols"
   ]
  },
  {
   "cell_type": "code",
   "execution_count": null,
   "id": "3c710c0f-37a7-4973-a815-72ce4af01214",
   "metadata": {},
   "outputs": [],
   "source": [
    "batting = batting[complete_cols + [\"Next_WAR\"]].copy()"
   ]
  },
  {
   "cell_type": "code",
   "execution_count": null,
   "id": "57d08396-954d-4d0d-b42a-efce3d142db6",
   "metadata": {},
   "outputs": [],
   "source": [
    "batting"
   ]
  },
  {
   "cell_type": "code",
   "execution_count": null,
   "id": "ef8f5c04-6095-453e-bf18-07a06c7ae592",
   "metadata": {},
   "outputs": [],
   "source": [
    "batting.dtypes"
   ]
  },
  {
   "cell_type": "code",
   "execution_count": null,
   "id": "3c11636b-1fce-4db2-bac9-110d24c6c6c9",
   "metadata": {},
   "outputs": [],
   "source": [
    "batting.dtypes[batting.dtypes ==\"object\"]"
   ]
  },
  {
   "cell_type": "code",
   "execution_count": null,
   "id": "bdc925de-f46e-4ba5-8408-28501a75827e",
   "metadata": {
    "scrolled": true
   },
   "outputs": [],
   "source": [
    "batting['Age Rng']"
   ]
  },
  {
   "cell_type": "code",
   "execution_count": null,
   "id": "018b0941-ab62-4ab4-9b0f-06cbd984b2da",
   "metadata": {
    "scrolled": true
   },
   "outputs": [],
   "source": [
    "del batting[\"Age Rng\"]"
   ]
  },
  {
   "cell_type": "code",
   "execution_count": null,
   "id": "eda102d9-7803-4669-bde4-8fc4a571a0ee",
   "metadata": {},
   "outputs": [],
   "source": [
    "batting[\"team_code\"] = batting[\"Team\"].astype(\"category\").cat.codes"
   ]
  },
  {
   "cell_type": "code",
   "execution_count": null,
   "id": "5ee052ed-de3f-4ee0-89b4-b3e8b0424561",
   "metadata": {},
   "outputs": [],
   "source": [
    "batting_full = batting.copy()\n",
    "## avoiding setting with copy error (makes a new copy)\n",
    "batting = batting.dropna().copy()"
   ]
  },
  {
   "cell_type": "code",
   "execution_count": null,
   "id": "399624de-c465-453c-a120-04f0b01bfabb",
   "metadata": {},
   "outputs": [],
   "source": [
    "## feature selector \n",
    "from sklearn.linear_model import Ridge\n",
    "from sklearn.feature_selection import SequentialFeatureSelector\n",
    "from sklearn.model_selection import TimeSeriesSplit\n",
    "\n",
    "## lamda is reserved in python so its alpha\n",
    "rr = Ridge(alpha=1)\n",
    "split = TimeSeriesSplit(n_splits=3)\n",
    "## Will keep going untill it gets 40\n",
    "sfs= SequentialFeatureSelector(rr, n_features_to_select=40, direction=\"forward\", cv=split, n_jobs=4)"
   ]
  },
  {
   "cell_type": "code",
   "execution_count": null,
   "id": "a38ac293-a30c-40db-ac3d-f26ee917e04b",
   "metadata": {},
   "outputs": [],
   "source": [
    "removed_columns =[\"Next_WAR\", \"Name\", \"Team\", \"IDfg\", \"Season\"]\n",
    "selected_columns = batting.columns[~batting.columns.isin(removed_columns)]"
   ]
  },
  {
   "cell_type": "code",
   "execution_count": null,
   "id": "53fd4605-4b23-4528-a1ea-e89705c120b3",
   "metadata": {},
   "outputs": [],
   "source": [
    "## forcing ratios between 0 and 1 to avoid problemns\n",
    "from sklearn.preprocessing import MinMaxScaler\n",
    "scaler = MinMaxScaler()\n",
    "batting.loc[:, selected_columns] = scaler.fit_transform(batting[selected_columns])"
   ]
  },
  {
   "cell_type": "code",
   "execution_count": null,
   "id": "0215c388-b252-48ca-80ba-c142379578c9",
   "metadata": {},
   "outputs": [],
   "source": [
    "batting\n"
   ]
  },
  {
   "cell_type": "code",
   "execution_count": null,
   "id": "76214458-0522-4ffd-874f-d4cdacaba6d9",
   "metadata": {},
   "outputs": [],
   "source": [
    "## The data has been scaled between 0 and 1 now making a fit for the data, it will pick the 40 predictors \n",
    "sfs.fit(batting[selected_columns], batting[\"Next_WAR\"])"
   ]
  },
  {
   "cell_type": "code",
   "execution_count": null,
   "id": "f4813f58-1e8e-47a6-9dfb-8d158eaa72a1",
   "metadata": {},
   "outputs": [],
   "source": [
    "predictors = list(selected_columns[sfs.get_support()])"
   ]
  },
  {
   "cell_type": "code",
   "execution_count": 197,
   "id": "d38888e9-bd33-444e-97fd-67ba05a33272",
   "metadata": {},
   "outputs": [],
   "source": [
    "def backtest(data, model, predictors, start=5, step=1):\n",
    "    all_predictions = []\n",
    "    \n",
    "    years = sorted(data[\"Season\"].unique())\n",
    "    \n",
    "    for i in range(start, len(years) - step, step):\n",
    "        current_year = years[i]\n",
    "        next_year = current_year + step  # Predict the next season following the current year\n",
    "                    \n",
    "        train = data[data[\"Season\"] < current_year]\n",
    "        test = data[data[\"Season\"] == current_year]\n",
    "        next_season_data = data[data[\"Season\"] == next_year]\n",
    "        \n",
    "        model.fit(train[predictors], train[\"Next_WAR\"])\n",
    "        preds = model.predict(test[predictors])\n",
    "        preds = pd.Series(preds, index=test.index)\n",
    "        combined = pd.concat([test[\"Next_WAR\"], preds], axis=1)\n",
    "        combined.columns = [\"actual\", \"prediction\"]\n",
    "        combined[\"Prediction_Year\"] = next_year\n",
    "\n",
    "        all_predictions.append(combined)\n",
    "    \n",
    "    return pd.concat(all_predictions)\n",
    "\n",
    "    \n",
    "    \n",
    "    "
   ]
  },
  {
   "cell_type": "code",
   "execution_count": 218,
   "id": "fab6d74a-9f2c-451f-a3e1-aa333c82b608",
   "metadata": {},
   "outputs": [],
   "source": [
    "predictions = backtest(batting, rr, predictors)\n"
   ]
  },
  {
   "cell_type": "code",
   "execution_count": 219,
   "id": "1da0f512-74f9-4ed9-a34b-e3989960cbd0",
   "metadata": {},
   "outputs": [
    {
     "data": {
      "text/plain": [
       "(5412, 3)"
      ]
     },
     "execution_count": 219,
     "metadata": {},
     "output_type": "execute_result"
    }
   ],
   "source": [
    "predictions.shape"
   ]
  },
  {
   "cell_type": "code",
   "execution_count": 200,
   "id": "35244d53-27e1-4306-80ac-08b2d1391569",
   "metadata": {
    "scrolled": true
   },
   "outputs": [
    {
     "data": {
      "text/html": [
       "<div>\n",
       "<style scoped>\n",
       "    .dataframe tbody tr th:only-of-type {\n",
       "        vertical-align: middle;\n",
       "    }\n",
       "\n",
       "    .dataframe tbody tr th {\n",
       "        vertical-align: top;\n",
       "    }\n",
       "\n",
       "    .dataframe thead th {\n",
       "        text-align: right;\n",
       "    }\n",
       "</style>\n",
       "<table border=\"1\" class=\"dataframe\">\n",
       "  <thead>\n",
       "    <tr style=\"text-align: right;\">\n",
       "      <th></th>\n",
       "      <th>actual</th>\n",
       "      <th>prediction</th>\n",
       "      <th>Prediction_Year</th>\n",
       "    </tr>\n",
       "  </thead>\n",
       "  <tbody>\n",
       "    <tr>\n",
       "      <th>5200</th>\n",
       "      <td>0.1</td>\n",
       "      <td>0.425564</td>\n",
       "      <td>2006</td>\n",
       "    </tr>\n",
       "    <tr>\n",
       "      <th>3199</th>\n",
       "      <td>1.5</td>\n",
       "      <td>2.244963</td>\n",
       "      <td>2006</td>\n",
       "    </tr>\n",
       "    <tr>\n",
       "      <th>6021</th>\n",
       "      <td>0.7</td>\n",
       "      <td>0.909899</td>\n",
       "      <td>2006</td>\n",
       "    </tr>\n",
       "    <tr>\n",
       "      <th>820</th>\n",
       "      <td>3.4</td>\n",
       "      <td>2.648500</td>\n",
       "      <td>2006</td>\n",
       "    </tr>\n",
       "    <tr>\n",
       "      <th>4520</th>\n",
       "      <td>1.0</td>\n",
       "      <td>1.735574</td>\n",
       "      <td>2006</td>\n",
       "    </tr>\n",
       "    <tr>\n",
       "      <th>...</th>\n",
       "      <td>...</td>\n",
       "      <td>...</td>\n",
       "      <td>...</td>\n",
       "    </tr>\n",
       "    <tr>\n",
       "      <th>7382</th>\n",
       "      <td>0.9</td>\n",
       "      <td>1.404527</td>\n",
       "      <td>2022</td>\n",
       "    </tr>\n",
       "    <tr>\n",
       "      <th>9091</th>\n",
       "      <td>0.7</td>\n",
       "      <td>0.810776</td>\n",
       "      <td>2022</td>\n",
       "    </tr>\n",
       "    <tr>\n",
       "      <th>6077</th>\n",
       "      <td>-0.5</td>\n",
       "      <td>1.005102</td>\n",
       "      <td>2022</td>\n",
       "    </tr>\n",
       "    <tr>\n",
       "      <th>6498</th>\n",
       "      <td>-1.3</td>\n",
       "      <td>0.414302</td>\n",
       "      <td>2022</td>\n",
       "    </tr>\n",
       "    <tr>\n",
       "      <th>8413</th>\n",
       "      <td>3.7</td>\n",
       "      <td>1.189580</td>\n",
       "      <td>2022</td>\n",
       "    </tr>\n",
       "  </tbody>\n",
       "</table>\n",
       "<p>5412 rows × 3 columns</p>\n",
       "</div>"
      ],
      "text/plain": [
       "      actual  prediction  Prediction_Year\n",
       "5200     0.1    0.425564             2006\n",
       "3199     1.5    2.244963             2006\n",
       "6021     0.7    0.909899             2006\n",
       "820      3.4    2.648500             2006\n",
       "4520     1.0    1.735574             2006\n",
       "...      ...         ...              ...\n",
       "7382     0.9    1.404527             2022\n",
       "9091     0.7    0.810776             2022\n",
       "6077    -0.5    1.005102             2022\n",
       "6498    -1.3    0.414302             2022\n",
       "8413     3.7    1.189580             2022\n",
       "\n",
       "[5412 rows x 3 columns]"
      ]
     },
     "execution_count": 200,
     "metadata": {},
     "output_type": "execute_result"
    }
   ],
   "source": [
    "predictions"
   ]
  },
  {
   "cell_type": "code",
   "execution_count": 200,
   "id": "08d256cd-abe5-4d87-b1e2-db5a0571658a",
   "metadata": {
    "scrolled": true
   },
   "outputs": [
    {
     "data": {
      "text/html": [
       "<div>\n",
       "<style scoped>\n",
       "    .dataframe tbody tr th:only-of-type {\n",
       "        vertical-align: middle;\n",
       "    }\n",
       "\n",
       "    .dataframe tbody tr th {\n",
       "        vertical-align: top;\n",
       "    }\n",
       "\n",
       "    .dataframe thead th {\n",
       "        text-align: right;\n",
       "    }\n",
       "</style>\n",
       "<table border=\"1\" class=\"dataframe\">\n",
       "  <thead>\n",
       "    <tr style=\"text-align: right;\">\n",
       "      <th></th>\n",
       "      <th>actual</th>\n",
       "      <th>prediction</th>\n",
       "      <th>Prediction_Year</th>\n",
       "    </tr>\n",
       "  </thead>\n",
       "  <tbody>\n",
       "    <tr>\n",
       "      <th>5200</th>\n",
       "      <td>0.1</td>\n",
       "      <td>0.425564</td>\n",
       "      <td>2006</td>\n",
       "    </tr>\n",
       "    <tr>\n",
       "      <th>3199</th>\n",
       "      <td>1.5</td>\n",
       "      <td>2.244963</td>\n",
       "      <td>2006</td>\n",
       "    </tr>\n",
       "    <tr>\n",
       "      <th>6021</th>\n",
       "      <td>0.7</td>\n",
       "      <td>0.909899</td>\n",
       "      <td>2006</td>\n",
       "    </tr>\n",
       "    <tr>\n",
       "      <th>820</th>\n",
       "      <td>3.4</td>\n",
       "      <td>2.648500</td>\n",
       "      <td>2006</td>\n",
       "    </tr>\n",
       "    <tr>\n",
       "      <th>4520</th>\n",
       "      <td>1.0</td>\n",
       "      <td>1.735574</td>\n",
       "      <td>2006</td>\n",
       "    </tr>\n",
       "    <tr>\n",
       "      <th>...</th>\n",
       "      <td>...</td>\n",
       "      <td>...</td>\n",
       "      <td>...</td>\n",
       "    </tr>\n",
       "    <tr>\n",
       "      <th>7382</th>\n",
       "      <td>0.9</td>\n",
       "      <td>1.404527</td>\n",
       "      <td>2022</td>\n",
       "    </tr>\n",
       "    <tr>\n",
       "      <th>9091</th>\n",
       "      <td>0.7</td>\n",
       "      <td>0.810776</td>\n",
       "      <td>2022</td>\n",
       "    </tr>\n",
       "    <tr>\n",
       "      <th>6077</th>\n",
       "      <td>-0.5</td>\n",
       "      <td>1.005102</td>\n",
       "      <td>2022</td>\n",
       "    </tr>\n",
       "    <tr>\n",
       "      <th>6498</th>\n",
       "      <td>-1.3</td>\n",
       "      <td>0.414302</td>\n",
       "      <td>2022</td>\n",
       "    </tr>\n",
       "    <tr>\n",
       "      <th>8413</th>\n",
       "      <td>3.7</td>\n",
       "      <td>1.189580</td>\n",
       "      <td>2022</td>\n",
       "    </tr>\n",
       "  </tbody>\n",
       "</table>\n",
       "<p>5412 rows × 3 columns</p>\n",
       "</div>"
      ],
      "text/plain": [
       "      actual  prediction  Prediction_Year\n",
       "5200     0.1    0.425564             2006\n",
       "3199     1.5    2.244963             2006\n",
       "6021     0.7    0.909899             2006\n",
       "820      3.4    2.648500             2006\n",
       "4520     1.0    1.735574             2006\n",
       "...      ...         ...              ...\n",
       "7382     0.9    1.404527             2022\n",
       "9091     0.7    0.810776             2022\n",
       "6077    -0.5    1.005102             2022\n",
       "6498    -1.3    0.414302             2022\n",
       "8413     3.7    1.189580             2022\n",
       "\n",
       "[5412 rows x 3 columns]"
      ]
     },
     "execution_count": 200,
     "metadata": {},
     "output_type": "execute_result"
    }
   ],
   "source": [
    "predictions"
   ]
  },
  {
   "cell_type": "code",
   "execution_count": 201,
   "id": "e34c3105-6e69-41e2-84ad-7cfa4e91f81d",
   "metadata": {},
   "outputs": [
    {
     "data": {
      "text/plain": [
       "2.738835421126018"
      ]
     },
     "execution_count": 201,
     "metadata": {},
     "output_type": "execute_result"
    }
   ],
   "source": [
    "## time to find out if it's any good\n",
    "from sklearn.metrics import mean_squared_error\n",
    "## Will take the difference between the acutal next seasons war and what we predicted\n",
    "## square that and take the average of those squares\n",
    "mean_squared_error(predictions[\"actual\"], predictions[\"prediction\"])"
   ]
  },
  {
   "cell_type": "code",
   "execution_count": 202,
   "id": "44af365d-a085-451f-a4f9-c97035341e5a",
   "metadata": {},
   "outputs": [
    {
     "data": {
      "text/plain": [
       "count    7376.000000\n",
       "mean        1.620214\n",
       "std         1.977068\n",
       "min        -3.400000\n",
       "25%         0.200000\n",
       "50%         1.200000\n",
       "75%         2.700000\n",
       "max        12.700000\n",
       "Name: Next_WAR, dtype: float64"
      ]
     },
     "execution_count": 202,
     "metadata": {},
     "output_type": "execute_result"
    }
   ],
   "source": [
    "batting[\"Next_WAR\"].describe()"
   ]
  },
  {
   "cell_type": "code",
   "execution_count": 203,
   "id": "9e5d73a3-ba28-49f4-a1bc-ecf793142069",
   "metadata": {},
   "outputs": [],
   "source": [
    "def player_history(df):\n",
    "    df = df.sort_values(\"Season\")\n",
    "        \n",
    "    df[\"player_season\"] = range(0, df.shape[0])\n",
    "    ## Giving the model information on player and WAR\n",
    "    df[\"war_corr\"] = list(df[[\"player_season\", \"WAR\"]].expanding().corr().loc[(slice(None), \"player_season\"),\"WAR\"])\n",
    "    ## filling missing data with 1 to 1\n",
    "    df[\"war_corr\"].fillna(0, inplace=True)\n",
    "    \n",
    "    df[\"war_diff\"] = df[\"WAR\"] / df[\"WAR\"].shift(1)\n",
    "    ## better than filling it in with a 0? \n",
    "    df[\"war_diff\"].fillna(1, inplace=True)\n",
    "    ## removing divide by zero errors\n",
    "    df[\"war_diff\"][df[\"war_diff\"] == np.inf] = 1\n",
    "    \n",
    "    return df\n",
    "\n",
    "batting = batting.groupby(\"IDfg\", group_keys=False).apply(player_history)\n",
    "\n"
   ]
  },
  {
   "cell_type": "code",
   "execution_count": 204,
   "id": "cc6c6bc7-46ca-4f6b-903c-bc5342f7163a",
   "metadata": {},
   "outputs": [],
   "source": [
    "def group_averages(df):\n",
    "    return df[\"WAR\"] /df[\"WAR\"].mean()"
   ]
  },
  {
   "cell_type": "code",
   "execution_count": 205,
   "id": "6058273c-6ecb-4414-831d-a76e31b23043",
   "metadata": {},
   "outputs": [],
   "source": [
    "batting[\"war_season\"] = batting.groupby(\"Season\", group_keys=False).apply(group_averages)"
   ]
  },
  {
   "cell_type": "code",
   "execution_count": 206,
   "id": "7ee23e2b-f8d9-4216-9a35-ee5c6e58d415",
   "metadata": {},
   "outputs": [],
   "source": [
    "new_predictors = predictors + [\"player_season\", \"war_corr\", \"war_season\", \"war_diff\"]"
   ]
  },
  {
   "cell_type": "code",
   "execution_count": 207,
   "id": "3022d986-497a-4ff4-894d-23ed8a092c56",
   "metadata": {},
   "outputs": [],
   "source": [
    "predictions = backtest(batting, rr, new_predictors)"
   ]
  },
  {
   "cell_type": "code",
   "execution_count": 208,
   "id": "a2d7a3ea-b222-47ea-a540-15e237467d16",
   "metadata": {},
   "outputs": [
    {
     "data": {
      "text/plain": [
       "2.6529216649379332"
      ]
     },
     "execution_count": 208,
     "metadata": {},
     "output_type": "execute_result"
    }
   ],
   "source": [
    "mean_squared_error(predictions[\"actual\"], predictions[\"prediction\"])"
   ]
  },
  {
   "cell_type": "code",
   "execution_count": 209,
   "id": "db45c6ff-9a38-4273-8659-bc432c8de47b",
   "metadata": {},
   "outputs": [
    {
     "data": {
      "text/html": [
       "<div>\n",
       "<style scoped>\n",
       "    .dataframe tbody tr th:only-of-type {\n",
       "        vertical-align: middle;\n",
       "    }\n",
       "\n",
       "    .dataframe tbody tr th {\n",
       "        vertical-align: top;\n",
       "    }\n",
       "\n",
       "    .dataframe thead th {\n",
       "        text-align: right;\n",
       "    }\n",
       "</style>\n",
       "<table border=\"1\" class=\"dataframe\">\n",
       "  <thead>\n",
       "    <tr style=\"text-align: right;\">\n",
       "      <th></th>\n",
       "      <th>actual</th>\n",
       "      <th>prediction</th>\n",
       "      <th>Prediction_Year</th>\n",
       "    </tr>\n",
       "  </thead>\n",
       "  <tbody>\n",
       "    <tr>\n",
       "      <th>5200</th>\n",
       "      <td>0.1</td>\n",
       "      <td>0.582392</td>\n",
       "      <td>2006</td>\n",
       "    </tr>\n",
       "    <tr>\n",
       "      <th>3199</th>\n",
       "      <td>1.5</td>\n",
       "      <td>2.325475</td>\n",
       "      <td>2006</td>\n",
       "    </tr>\n",
       "    <tr>\n",
       "      <th>6021</th>\n",
       "      <td>0.7</td>\n",
       "      <td>1.224592</td>\n",
       "      <td>2006</td>\n",
       "    </tr>\n",
       "    <tr>\n",
       "      <th>820</th>\n",
       "      <td>3.4</td>\n",
       "      <td>2.659142</td>\n",
       "      <td>2006</td>\n",
       "    </tr>\n",
       "    <tr>\n",
       "      <th>4520</th>\n",
       "      <td>1.0</td>\n",
       "      <td>1.980723</td>\n",
       "      <td>2006</td>\n",
       "    </tr>\n",
       "    <tr>\n",
       "      <th>...</th>\n",
       "      <td>...</td>\n",
       "      <td>...</td>\n",
       "      <td>...</td>\n",
       "    </tr>\n",
       "    <tr>\n",
       "      <th>7382</th>\n",
       "      <td>0.9</td>\n",
       "      <td>1.333965</td>\n",
       "      <td>2022</td>\n",
       "    </tr>\n",
       "    <tr>\n",
       "      <th>9091</th>\n",
       "      <td>0.7</td>\n",
       "      <td>0.604278</td>\n",
       "      <td>2022</td>\n",
       "    </tr>\n",
       "    <tr>\n",
       "      <th>6077</th>\n",
       "      <td>-0.5</td>\n",
       "      <td>0.833374</td>\n",
       "      <td>2022</td>\n",
       "    </tr>\n",
       "    <tr>\n",
       "      <th>6498</th>\n",
       "      <td>-1.3</td>\n",
       "      <td>0.384970</td>\n",
       "      <td>2022</td>\n",
       "    </tr>\n",
       "    <tr>\n",
       "      <th>8413</th>\n",
       "      <td>3.7</td>\n",
       "      <td>1.183178</td>\n",
       "      <td>2022</td>\n",
       "    </tr>\n",
       "  </tbody>\n",
       "</table>\n",
       "<p>5412 rows × 3 columns</p>\n",
       "</div>"
      ],
      "text/plain": [
       "      actual  prediction  Prediction_Year\n",
       "5200     0.1    0.582392             2006\n",
       "3199     1.5    2.325475             2006\n",
       "6021     0.7    1.224592             2006\n",
       "820      3.4    2.659142             2006\n",
       "4520     1.0    1.980723             2006\n",
       "...      ...         ...              ...\n",
       "7382     0.9    1.333965             2022\n",
       "9091     0.7    0.604278             2022\n",
       "6077    -0.5    0.833374             2022\n",
       "6498    -1.3    0.384970             2022\n",
       "8413     3.7    1.183178             2022\n",
       "\n",
       "[5412 rows x 3 columns]"
      ]
     },
     "execution_count": 209,
     "metadata": {},
     "output_type": "execute_result"
    }
   ],
   "source": [
    "predictions"
   ]
  },
  {
   "cell_type": "code",
   "execution_count": 210,
   "id": "df1a306d-8e29-4751-a4e7-9632284035b3",
   "metadata": {},
   "outputs": [
    {
     "data": {
      "text/plain": [
       "Age             -2.533951\n",
       "SLG             -1.488283\n",
       "WAR             -1.444341\n",
       "RAR             -1.424518\n",
       "G               -1.353970\n",
       "BABIP           -1.095635\n",
       "Def             -1.021356\n",
       "Off             -0.962349\n",
       "SB              -0.914946\n",
       "Bat             -0.905551\n",
       "OBP+            -0.781304\n",
       "SH              -0.696207\n",
       "H               -0.651075\n",
       "war_diff        -0.623788\n",
       "OPS             -0.381337\n",
       "+WPA            -0.336817\n",
       "BsR             -0.291577\n",
       "Events          -0.193606\n",
       "3B              -0.104676\n",
       "war_corr        -0.060737\n",
       "team_code        0.002907\n",
       "player_season    0.009926\n",
       "pLI              0.060443\n",
       "Clutch           0.069801\n",
       "-WPA             0.100624\n",
       "PH               0.110810\n",
       "AB               0.183946\n",
       "BABIP+           0.194926\n",
       "Pos              0.226412\n",
       "Rep              0.350830\n",
       "wOBA             0.369558\n",
       "SF               0.372593\n",
       "L-WAR            0.529489\n",
       "Spd              0.705229\n",
       "GDP              0.767731\n",
       "BB/K             0.768814\n",
       "PA               1.033198\n",
       "REW              1.067276\n",
       "ISO+             1.237715\n",
       "CS               1.297733\n",
       "wSB              1.383405\n",
       "OBP              1.446776\n",
       "IBB              2.526490\n",
       "war_season       3.952035\n",
       "dtype: float64"
      ]
     },
     "execution_count": 210,
     "metadata": {},
     "output_type": "execute_result"
    }
   ],
   "source": [
    "pd.Series(rr.coef_, index=new_predictors).sort_values()\n"
   ]
  },
  {
   "cell_type": "code",
   "execution_count": 211,
   "id": "30c83c92-07a4-4402-b45a-3b22af8183c6",
   "metadata": {},
   "outputs": [],
   "source": [
    "diff = predictions[\"actual\"] - predictions[\"prediction\"]"
   ]
  },
  {
   "cell_type": "code",
   "execution_count": 212,
   "id": "c1b8bcc9-e0bd-4e12-a991-d22df75ebc3c",
   "metadata": {},
   "outputs": [],
   "source": [
    "merged = predictions.merge(batting, left_index=True, right_index=True)"
   ]
  },
  {
   "cell_type": "code",
   "execution_count": 215,
   "id": "71426753-fc2a-45ee-be97-46749f252e27",
   "metadata": {},
   "outputs": [],
   "source": [
    "ArmChairWarv1 = merged[[\"IDfg\", \"Name\", \"WAR\", \"Next_WAR\", \"Prediction_Year\", \"prediction\"]].sort_values([\"Prediction_Year\"])"
   ]
  },
  {
   "cell_type": "code",
   "execution_count": 216,
   "id": "07cea11c-f39d-45ca-bf1a-fd9ca173badf",
   "metadata": {},
   "outputs": [
    {
     "data": {
      "text/html": [
       "<div>\n",
       "<style scoped>\n",
       "    .dataframe tbody tr th:only-of-type {\n",
       "        vertical-align: middle;\n",
       "    }\n",
       "\n",
       "    .dataframe tbody tr th {\n",
       "        vertical-align: top;\n",
       "    }\n",
       "\n",
       "    .dataframe thead th {\n",
       "        text-align: right;\n",
       "    }\n",
       "</style>\n",
       "<table border=\"1\" class=\"dataframe\">\n",
       "  <thead>\n",
       "    <tr style=\"text-align: right;\">\n",
       "      <th></th>\n",
       "      <th>IDfg</th>\n",
       "      <th>Name</th>\n",
       "      <th>WAR</th>\n",
       "      <th>Next_WAR</th>\n",
       "      <th>Prediction_Year</th>\n",
       "      <th>prediction</th>\n",
       "    </tr>\n",
       "  </thead>\n",
       "  <tbody>\n",
       "    <tr>\n",
       "      <th>5200</th>\n",
       "      <td>2</td>\n",
       "      <td>Garret Anderson</td>\n",
       "      <td>0.198758</td>\n",
       "      <td>0.1</td>\n",
       "      <td>2006</td>\n",
       "      <td>0.582392</td>\n",
       "    </tr>\n",
       "    <tr>\n",
       "      <th>2019</th>\n",
       "      <td>1398</td>\n",
       "      <td>Brady Clark</td>\n",
       "      <td>0.385093</td>\n",
       "      <td>0.2</td>\n",
       "      <td>2006</td>\n",
       "      <td>1.908079</td>\n",
       "    </tr>\n",
       "    <tr>\n",
       "      <th>2477</th>\n",
       "      <td>1397</td>\n",
       "      <td>Jason Lane</td>\n",
       "      <td>0.279503</td>\n",
       "      <td>0.4</td>\n",
       "      <td>2006</td>\n",
       "      <td>1.371894</td>\n",
       "    </tr>\n",
       "    <tr>\n",
       "      <th>3462</th>\n",
       "      <td>1392</td>\n",
       "      <td>Mark DeRosa</td>\n",
       "      <td>0.254658</td>\n",
       "      <td>2.9</td>\n",
       "      <td>2006</td>\n",
       "      <td>0.430760</td>\n",
       "    </tr>\n",
       "    <tr>\n",
       "      <th>8505</th>\n",
       "      <td>1386</td>\n",
       "      <td>Alex Cora</td>\n",
       "      <td>0.254658</td>\n",
       "      <td>-0.1</td>\n",
       "      <td>2006</td>\n",
       "      <td>1.261107</td>\n",
       "    </tr>\n",
       "    <tr>\n",
       "      <th>...</th>\n",
       "      <td>...</td>\n",
       "      <td>...</td>\n",
       "      <td>...</td>\n",
       "      <td>...</td>\n",
       "      <td>...</td>\n",
       "      <td>...</td>\n",
       "    </tr>\n",
       "    <tr>\n",
       "      <th>6113</th>\n",
       "      <td>12552</td>\n",
       "      <td>Eugenio Suarez</td>\n",
       "      <td>0.204969</td>\n",
       "      <td>4.1</td>\n",
       "      <td>2022</td>\n",
       "      <td>0.888923</td>\n",
       "    </tr>\n",
       "    <tr>\n",
       "      <th>697</th>\n",
       "      <td>12546</td>\n",
       "      <td>C.J. Cron</td>\n",
       "      <td>0.347826</td>\n",
       "      <td>1.2</td>\n",
       "      <td>2022</td>\n",
       "      <td>1.099035</td>\n",
       "    </tr>\n",
       "    <tr>\n",
       "      <th>1273</th>\n",
       "      <td>12533</td>\n",
       "      <td>Marcus Semien</td>\n",
       "      <td>0.602484</td>\n",
       "      <td>4.0</td>\n",
       "      <td>2022</td>\n",
       "      <td>2.814657</td>\n",
       "    </tr>\n",
       "    <tr>\n",
       "      <th>7399</th>\n",
       "      <td>12510</td>\n",
       "      <td>Curt Casali</td>\n",
       "      <td>0.242236</td>\n",
       "      <td>0.4</td>\n",
       "      <td>2022</td>\n",
       "      <td>0.523192</td>\n",
       "    </tr>\n",
       "    <tr>\n",
       "      <th>8413</th>\n",
       "      <td>27506</td>\n",
       "      <td>Ha-seong Kim</td>\n",
       "      <td>0.242236</td>\n",
       "      <td>3.7</td>\n",
       "      <td>2022</td>\n",
       "      <td>1.183178</td>\n",
       "    </tr>\n",
       "  </tbody>\n",
       "</table>\n",
       "<p>5412 rows × 6 columns</p>\n",
       "</div>"
      ],
      "text/plain": [
       "       IDfg             Name       WAR  Next_WAR  Prediction_Year  prediction\n",
       "5200      2  Garret Anderson  0.198758       0.1             2006    0.582392\n",
       "2019   1398      Brady Clark  0.385093       0.2             2006    1.908079\n",
       "2477   1397       Jason Lane  0.279503       0.4             2006    1.371894\n",
       "3462   1392      Mark DeRosa  0.254658       2.9             2006    0.430760\n",
       "8505   1386        Alex Cora  0.254658      -0.1             2006    1.261107\n",
       "...     ...              ...       ...       ...              ...         ...\n",
       "6113  12552   Eugenio Suarez  0.204969       4.1             2022    0.888923\n",
       "697   12546        C.J. Cron  0.347826       1.2             2022    1.099035\n",
       "1273  12533    Marcus Semien  0.602484       4.0             2022    2.814657\n",
       "7399  12510      Curt Casali  0.242236       0.4             2022    0.523192\n",
       "8413  27506     Ha-seong Kim  0.242236       3.7             2022    1.183178\n",
       "\n",
       "[5412 rows x 6 columns]"
      ]
     },
     "execution_count": 216,
     "metadata": {},
     "output_type": "execute_result"
    }
   ],
   "source": [
    "ArmChairWarv1\n"
   ]
  },
  {
   "cell_type": "code",
   "execution_count": 217,
   "id": "f1f65551-5566-4411-8549-5f39600689f9",
   "metadata": {},
   "outputs": [],
   "source": [
    "ArmChairWarv1.to_csv('future.csv')"
   ]
  },
  {
   "cell_type": "raw",
   "id": "f5a92539-b9b3-4500-a2f2-f642462b5164",
   "metadata": {},
   "source": []
  },
  {
   "cell_type": "code",
   "execution_count": null,
   "id": "fda50c3c-1b6e-459d-b453-fc885b5933c3",
   "metadata": {},
   "outputs": [],
   "source": []
  }
 ],
 "metadata": {
  "kernelspec": {
   "display_name": "Python 3 (ipykernel)",
   "language": "python",
   "name": "python3"
  },
  "language_info": {
   "codemirror_mode": {
    "name": "ipython",
    "version": 3
   },
   "file_extension": ".py",
   "mimetype": "text/x-python",
   "name": "python",
   "nbconvert_exporter": "python",
   "pygments_lexer": "ipython3",
   "version": "3.10.6"
  }
 },
 "nbformat": 4,
 "nbformat_minor": 5
}
