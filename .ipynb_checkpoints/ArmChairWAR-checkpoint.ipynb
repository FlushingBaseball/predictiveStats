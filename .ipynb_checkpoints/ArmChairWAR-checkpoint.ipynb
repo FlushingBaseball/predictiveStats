{
 "cells": [
  {
   "cell_type": "code",
   "execution_count": 40,
   "id": "aacecf7f-c422-4e38-9eb4-c17581dea453",
   "metadata": {},
   "outputs": [],
   "source": [
    "import os\n",
    "import pandas as pd\n",
    "import numpy as np\n",
    "from pybaseball import batting_stats"
   ]
  },
  {
   "cell_type": "code",
   "execution_count": 41,
   "id": "a7f37653-727b-4d74-b4dd-74744e8d0dbc",
   "metadata": {},
   "outputs": [],
   "source": [
    "START = 2000\n",
    "END = 2023"
   ]
  },
  {
   "cell_type": "code",
   "execution_count": null,
   "id": "6746514e-e166-4455-ad7a-6865799dc3a4",
   "metadata": {},
   "outputs": [],
   "source": [
    "batting = batting_stats(START, END, qual=150)"
   ]
  },
  {
   "cell_type": "code",
   "execution_count": null,
   "id": "ef8a4f7a-9f1b-456a-8266-85a7b5e59f30",
   "metadata": {},
   "outputs": [],
   "source": [
    "batting.to_csv(\"batting.csv\")"
   ]
  },
  {
   "cell_type": "code",
   "execution_count": null,
   "id": "e7734d16-731a-4ca3-adc0-11b40271041c",
   "metadata": {},
   "outputs": [],
   "source": [
    "## removing players that only have one qualified season may switch to MLBAM id\n",
    "## at least two seasons of data\n",
    "batting = batting.groupby(\"IDfg\", group_keys=False).filter(lambda x: x.shape[0] >1)"
   ]
  },
  {
   "cell_type": "code",
   "execution_count": null,
   "id": "c2a20a41-09db-4dcd-a538-22d9870ca8b5",
   "metadata": {},
   "outputs": [],
   "source": [
    "batting"
   ]
  },
  {
   "cell_type": "code",
   "execution_count": null,
   "id": "3093b280-9c45-4705-8de6-4c6e2ddd94a6",
   "metadata": {},
   "outputs": [],
   "source": [
    "def next_season(player):\n",
    "    player = player.sort_values(\"Season\")\n",
    "    player[\"Next_WAR\"] = player[\"WAR\"].shift(-1)\n",
    "    return player\n",
    "batting = batting.groupby(\"IDfg\", group_keys=False).apply(next_season)"
   ]
  },
  {
   "cell_type": "code",
   "execution_count": null,
   "id": "1480321a-4689-417d-abf4-b930afc3b8b0",
   "metadata": {},
   "outputs": [],
   "source": [
    "batting[[\"Name\", \"Season\", \"WAR\", \"Next_WAR\"]]"
   ]
  },
  {
   "cell_type": "code",
   "execution_count": null,
   "id": "172a155f-7848-41f6-984a-4288c5bac759",
   "metadata": {},
   "outputs": [],
   "source": [
    "null_count = batting.isnull().sum()"
   ]
  },
  {
   "cell_type": "code",
   "execution_count": null,
   "id": "89d96229-72d8-4345-a460-22f61bebfc39",
   "metadata": {},
   "outputs": [],
   "source": [
    "null_count"
   ]
  },
  {
   "cell_type": "code",
   "execution_count": null,
   "id": "bef28623-3ea5-4f90-8392-902abd081ec1",
   "metadata": {},
   "outputs": [],
   "source": [
    "complete_cols = list(batting.columns[null_count ==0])"
   ]
  },
  {
   "cell_type": "code",
   "execution_count": null,
   "id": "ccb4ac38-d39a-4db6-94ee-96ff3e8ecf86",
   "metadata": {},
   "outputs": [],
   "source": [
    "complete_cols"
   ]
  },
  {
   "cell_type": "code",
   "execution_count": null,
   "id": "3c710c0f-37a7-4973-a815-72ce4af01214",
   "metadata": {},
   "outputs": [],
   "source": [
    "batting = batting[complete_cols + [\"Next_WAR\"]].copy()"
   ]
  },
  {
   "cell_type": "code",
   "execution_count": null,
   "id": "57d08396-954d-4d0d-b42a-efce3d142db6",
   "metadata": {},
   "outputs": [],
   "source": [
    "batting"
   ]
  },
  {
   "cell_type": "code",
   "execution_count": null,
   "id": "ef8f5c04-6095-453e-bf18-07a06c7ae592",
   "metadata": {},
   "outputs": [],
   "source": [
    "batting.dtypes"
   ]
  },
  {
   "cell_type": "code",
   "execution_count": null,
   "id": "3c11636b-1fce-4db2-bac9-110d24c6c6c9",
   "metadata": {},
   "outputs": [],
   "source": [
    "batting.dtypes[batting.dtypes ==\"object\"]"
   ]
  },
  {
   "cell_type": "code",
   "execution_count": null,
   "id": "bdc925de-f46e-4ba5-8408-28501a75827e",
   "metadata": {},
   "outputs": [],
   "source": [
    "batting['Age Rng']"
   ]
  },
  {
   "cell_type": "code",
   "execution_count": null,
   "id": "018b0941-ab62-4ab4-9b0f-06cbd984b2da",
   "metadata": {},
   "outputs": [],
   "source": [
    "del batting[\"Dol\"]"
   ]
  },
  {
   "cell_type": "code",
   "execution_count": null,
   "id": "7257d965-5bfc-4821-a415-646a8fad2920",
   "metadata": {},
   "outputs": [],
   "source": [
    "del batting[\"Age Rng\"]"
   ]
  },
  {
   "cell_type": "code",
   "execution_count": null,
   "id": "eda102d9-7803-4669-bde4-8fc4a571a0ee",
   "metadata": {},
   "outputs": [],
   "source": [
    "batting[\"team_code\"] = batting[\"Team\"].astype(\"category\").cat.codes"
   ]
  },
  {
   "cell_type": "code",
   "execution_count": null,
   "id": "5ee052ed-de3f-4ee0-89b4-b3e8b0424561",
   "metadata": {},
   "outputs": [],
   "source": [
    "batting_full = batting.copy()\n",
    "## avoiding setting with copy error (makes a new copy)\n",
    "batting = batting.dropna().copy()"
   ]
  },
  {
   "cell_type": "code",
   "execution_count": null,
   "id": "399624de-c465-453c-a120-04f0b01bfabb",
   "metadata": {},
   "outputs": [],
   "source": [
    "## feature selector \n",
    "from sklearn.linear_model import Ridge\n",
    "from sklearn.feature_selection import SequentialFeatureSelector\n",
    "from sklearn.model_selection import TimeSeriesSplit\n",
    "\n",
    "## lamda is reserved in python so its alpha\n",
    "rr = Ridge(alpha=1)\n",
    "split = TimeSeriesSplit(n_splits=3)\n",
    "## Will keep going untill it gets 40\n",
    "sfs = SequentialFeatureSelector(rr, n_features_to_select=40, direction=\"forward\", cv=split, n_jobs=4)"
   ]
  },
  {
   "cell_type": "code",
   "execution_count": null,
   "id": "a38ac293-a30c-40db-ac3d-f26ee917e04b",
   "metadata": {},
   "outputs": [],
   "source": [
    "removed_columns =[\"Next_WAR\", \"Name\", \"Team\", \"IDfg\", \"Season\"]\n",
    "selected_columns = batting.columns[~batting.columns.isin(removed_columns)]"
   ]
  },
  {
   "cell_type": "code",
   "execution_count": null,
   "id": "53fd4605-4b23-4528-a1ea-e89705c120b3",
   "metadata": {},
   "outputs": [],
   "source": [
    "## forcing ratios between 0 and 1 to avoid problemns\n",
    "from sklearn.preprocessing import MinMaxScaler\n",
    "scaler = MinMaxScaler()\n",
    "batting.loc[:, selected_columns] = scaler.fit_transform(batting[selected_columns])"
   ]
  },
  {
   "cell_type": "code",
   "execution_count": null,
   "id": "0215c388-b252-48ca-80ba-c142379578c9",
   "metadata": {},
   "outputs": [],
   "source": [
    "batting"
   ]
  },
  {
   "cell_type": "code",
   "execution_count": null,
   "id": "eaa5c44f-19a5-4a39-936d-ad07cf1776af",
   "metadata": {},
   "outputs": [],
   "source": []
  }
 ],
 "metadata": {
  "kernelspec": {
   "display_name": "Python 3 (ipykernel)",
   "language": "python",
   "name": "python3"
  },
  "language_info": {
   "codemirror_mode": {
    "name": "ipython",
    "version": 3
   },
   "file_extension": ".py",
   "mimetype": "text/x-python",
   "name": "python",
   "nbconvert_exporter": "python",
   "pygments_lexer": "ipython3",
   "version": "3.10.6"
  }
 },
 "nbformat": 4,
 "nbformat_minor": 5
}
